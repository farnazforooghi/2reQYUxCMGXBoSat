{
  "metadata": {
    "language_info": {
      "codemirror_mode": {
        "name": "python",
        "version": 3
      },
      "file_extension": ".py",
      "mimetype": "text/x-python",
      "name": "python",
      "nbconvert_exporter": "python",
      "pygments_lexer": "ipython3",
      "version": "3.8"
    },
    "kernelspec": {
      "name": "python",
      "display_name": "Python (Pyodide)",
      "language": "python"
    }
  },
  "nbformat_minor": 4,
  "nbformat": 4,
  "cells": [
    {
      "cell_type": "markdown",
      "source": "Project 1 : Happy Customer \n\nBackground:\n\nWe are one of the fastest growing startups in the logistics and delivery domain. We work with several partners and make on-demand delivery to our customers. During the COVID-19 pandemic, we are facing several different challenges and everyday we are trying to address these challenges.\n\nWe thrive on making our customers happy. As a growing startup, with a global expansion strategy we know that we need to make our customers happy and the only way to do that is to measure how happy each customer is. If we can predict what makes our customers happy or unhappy, we can then take necessary actions.\n\nGetting feedback from customers is not easy either, but we do our best to get constant feedback from our customers. This is a crucial function to improve our operations across all levels.\n\nWe recently did a survey to a select customer cohort. You are presented with a subset of this data. We will be using the remaining data as a private test set.\n",
      "metadata": {}
    },
    {
      "cell_type": "markdown",
      "source": "Data Description:\n\nY = target attribute (Y) with values indicating 0 (unhappy) and 1 (happy) customers (Happiness-status)\n\nX1 = my order was delivered on time (Delivery-satisfaction)\n\nX2 = contents of my order was as I expected ( Expectation-satisfaction)\n\nX3 = I ordered everything I wanted to order ( order-satisfaction)\n\nX4 = I paid a good price for my order (Price-satisfaction)\n\nX5 = I am satisfied with my courier (Courier-satisfaction)\n\nX6 = the app makes ordering easy for me (app-satisfaction)\n\nAttributes X1 to X6 indicate the responses for each question and have values from 1 to 5 where the smaller number indicates less and the higher number indicates more towards the answer.",
      "metadata": {}
    },
    {
      "cell_type": "markdown",
      "source": "Goal(s):\n\nPredict if a customer is happy or not based on the answers they give to questions asked.",
      "metadata": {}
    },
    {
      "cell_type": "markdown",
      "source": "Ensemble model :\n\nImport libraries -> Read date ->date visualization -> preprocessing -> train  model(s) -> feature extraction\n\nSelected models :\n1. k-neighbour classifier ( KNN)\n2. SVM (Support vector machine)\n3. Decision tree\n\nreason of selection : As these models usually have higher accuracy for prediction",
      "metadata": {}
    },
    {
      "cell_type": "code",
      "source": "#importing useful libraries/modules for this project\nimport numpy as np \nimport pandas as pd\nimport matplotlib as mpl\nimport csv\nfrom sklearn.model_selection import train_test_split\nimport random\nimport seaborn as sb\n",
      "metadata": {
        "trusted": true
      },
      "execution_count": null,
      "outputs": []
    },
    {
      "cell_type": "code",
      "source": "#Read data\npath = 'ACME-HappinessSurvey2020.csv'\ndata = pd.read_csv(path)\ndata.columns = ['Happiness Status' , 'Delivery-satisfaction' , 'Expectation-satisfaction' , 'order-satisfaction' , 'Price-satisfaction' , 'Courier-satisfaction','app-satisfaction' ]\ndata.head()",
      "metadata": {
        "trusted": true
      },
      "execution_count": null,
      "outputs": []
    },
    {
      "cell_type": "code",
      "source": "",
      "metadata": {},
      "execution_count": null,
      "outputs": []
    }
  ]
}