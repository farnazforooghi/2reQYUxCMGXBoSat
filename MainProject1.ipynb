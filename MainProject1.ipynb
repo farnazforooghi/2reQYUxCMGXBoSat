{
  "nbformat": 4,
  "nbformat_minor": 0,
  "metadata": {
    "colab": {
      "provenance": [],
      "authorship_tag": "ABX9TyMDx4zQf66gKUWNXVsAwNtN",
      "include_colab_link": true
    },
    "kernelspec": {
      "name": "python3",
      "display_name": "Python 3"
    },
    "language_info": {
      "name": "python"
    }
  },
  "cells": [
    {
      "cell_type": "markdown",
      "metadata": {
        "id": "view-in-github",
        "colab_type": "text"
      },
      "source": [
        "<a href=\"https://colab.research.google.com/github/farnazforooghi/G5dWO8HnyFw63JSR/blob/main/MainProject1.ipynb\" target=\"_parent\"><img src=\"https://colab.research.google.com/assets/colab-badge.svg\" alt=\"Open In Colab\"/></a>"
      ]
    },
    {
      "cell_type": "markdown",
      "source": [
        "Project 1 : Happy Customer \n",
        "\n",
        "Background:\n",
        "\n",
        "We are one of the fastest growing startups in the logistics and delivery domain. We work with several partners and make on-demand delivery to our customers. During the COVID-19 pandemic, we are facing several different challenges and everyday we are trying to address these challenges.\n",
        "\n",
        "We thrive on making our customers happy. As a growing startup, with a global expansion strategy we know that we need to make our customers happy and the only way to do that is to measure how happy each customer is. If we can predict what makes our customers happy or unhappy, we can then take necessary actions.\n",
        "\n",
        "Getting feedback from customers is not easy either, but we do our best to get constant feedback from our customers. This is a crucial function to improve our operations across all levels.\n",
        "\n",
        "We recently did a survey to a select customer cohort. You are presented with a subset of this data. We will be using the remaining data as a private test set.\n"
      ],
      "metadata": {
        "id": "JMFs2CQyjugI"
      }
    },
    {
      "cell_type": "markdown",
      "source": [
        "Data Description:\n",
        "\n",
        "Y = target attribute (Y) with values indicating 0 (unhappy) and 1 (happy) customers (Happiness-status)\n",
        "\n",
        "X1 = my order was delivered on time (Delivery-satisfaction)\n",
        "\n",
        "X2 = contents of my order was as I expected ( Expectation-satisfaction)\n",
        "\n",
        "X3 = I ordered everything I wanted to order ( order-satisfaction)\n",
        "\n",
        "X4 = I paid a good price for my order (Price-satisfaction)\n",
        "\n",
        "X5 = I am satisfied with my courier (Courier-satisfaction)\n",
        "\n",
        "X6 = the app makes ordering easy for me (app-satisfaction)\n",
        "\n",
        "Attributes X1 to X6 indicate the responses for each question and have values from 1 to 5 where the smaller number indicates less and the higher number indicates more towards the answer."
      ],
      "metadata": {
        "id": "G_X5X-8Wj2a9"
      }
    },
    {
      "cell_type": "markdown",
      "source": [
        "Goal(s):\n",
        "\n",
        "Predict if a customer is happy or not based on the answers they give to questions asked."
      ],
      "metadata": {
        "id": "p8QY7Qf2j5qt"
      }
    },
    {
      "cell_type": "markdown",
      "source": [
        "Ensemble model :\n",
        "\n",
        "Import libraries -> Read date ->date visualization -> preprocessing -> train  model(s) -> feature extraction\n",
        "\n",
        "Selected models :\n",
        "1. k-neighbour classifier ( KNN)\n",
        "2. SVM (Support vector machine)\n",
        "3. Random forest Classifier\n",
        "reason of selection : As these models usually have higher accuracy for prediction"
      ],
      "metadata": {
        "id": "HyW9himVj91k"
      }
    },
    {
      "cell_type": "code",
      "source": [
        "from google.colab import files\n",
        " \n",
        " \n",
        "uploaded = files.upload()"
      ],
      "metadata": {
        "colab": {
          "base_uri": "https://localhost:8080/",
          "height": 73
        },
        "id": "wtY8MS-2i-5S",
        "outputId": "591777a0-97ca-4508-a9e3-8c85436cf5cd"
      },
      "execution_count": null,
      "outputs": [
        {
          "output_type": "display_data",
          "data": {
            "text/plain": [
              "<IPython.core.display.HTML object>"
            ],
            "text/html": [
              "\n",
              "     <input type=\"file\" id=\"files-6aebb7d5-2827-4921-9945-e3790a0a77ff\" name=\"files[]\" multiple disabled\n",
              "        style=\"border:none\" />\n",
              "     <output id=\"result-6aebb7d5-2827-4921-9945-e3790a0a77ff\">\n",
              "      Upload widget is only available when the cell has been executed in the\n",
              "      current browser session. Please rerun this cell to enable.\n",
              "      </output>\n",
              "      <script>// Copyright 2017 Google LLC\n",
              "//\n",
              "// Licensed under the Apache License, Version 2.0 (the \"License\");\n",
              "// you may not use this file except in compliance with the License.\n",
              "// You may obtain a copy of the License at\n",
              "//\n",
              "//      http://www.apache.org/licenses/LICENSE-2.0\n",
              "//\n",
              "// Unless required by applicable law or agreed to in writing, software\n",
              "// distributed under the License is distributed on an \"AS IS\" BASIS,\n",
              "// WITHOUT WARRANTIES OR CONDITIONS OF ANY KIND, either express or implied.\n",
              "// See the License for the specific language governing permissions and\n",
              "// limitations under the License.\n",
              "\n",
              "/**\n",
              " * @fileoverview Helpers for google.colab Python module.\n",
              " */\n",
              "(function(scope) {\n",
              "function span(text, styleAttributes = {}) {\n",
              "  const element = document.createElement('span');\n",
              "  element.textContent = text;\n",
              "  for (const key of Object.keys(styleAttributes)) {\n",
              "    element.style[key] = styleAttributes[key];\n",
              "  }\n",
              "  return element;\n",
              "}\n",
              "\n",
              "// Max number of bytes which will be uploaded at a time.\n",
              "const MAX_PAYLOAD_SIZE = 100 * 1024;\n",
              "\n",
              "function _uploadFiles(inputId, outputId) {\n",
              "  const steps = uploadFilesStep(inputId, outputId);\n",
              "  const outputElement = document.getElementById(outputId);\n",
              "  // Cache steps on the outputElement to make it available for the next call\n",
              "  // to uploadFilesContinue from Python.\n",
              "  outputElement.steps = steps;\n",
              "\n",
              "  return _uploadFilesContinue(outputId);\n",
              "}\n",
              "\n",
              "// This is roughly an async generator (not supported in the browser yet),\n",
              "// where there are multiple asynchronous steps and the Python side is going\n",
              "// to poll for completion of each step.\n",
              "// This uses a Promise to block the python side on completion of each step,\n",
              "// then passes the result of the previous step as the input to the next step.\n",
              "function _uploadFilesContinue(outputId) {\n",
              "  const outputElement = document.getElementById(outputId);\n",
              "  const steps = outputElement.steps;\n",
              "\n",
              "  const next = steps.next(outputElement.lastPromiseValue);\n",
              "  return Promise.resolve(next.value.promise).then((value) => {\n",
              "    // Cache the last promise value to make it available to the next\n",
              "    // step of the generator.\n",
              "    outputElement.lastPromiseValue = value;\n",
              "    return next.value.response;\n",
              "  });\n",
              "}\n",
              "\n",
              "/**\n",
              " * Generator function which is called between each async step of the upload\n",
              " * process.\n",
              " * @param {string} inputId Element ID of the input file picker element.\n",
              " * @param {string} outputId Element ID of the output display.\n",
              " * @return {!Iterable<!Object>} Iterable of next steps.\n",
              " */\n",
              "function* uploadFilesStep(inputId, outputId) {\n",
              "  const inputElement = document.getElementById(inputId);\n",
              "  inputElement.disabled = false;\n",
              "\n",
              "  const outputElement = document.getElementById(outputId);\n",
              "  outputElement.innerHTML = '';\n",
              "\n",
              "  const pickedPromise = new Promise((resolve) => {\n",
              "    inputElement.addEventListener('change', (e) => {\n",
              "      resolve(e.target.files);\n",
              "    });\n",
              "  });\n",
              "\n",
              "  const cancel = document.createElement('button');\n",
              "  inputElement.parentElement.appendChild(cancel);\n",
              "  cancel.textContent = 'Cancel upload';\n",
              "  const cancelPromise = new Promise((resolve) => {\n",
              "    cancel.onclick = () => {\n",
              "      resolve(null);\n",
              "    };\n",
              "  });\n",
              "\n",
              "  // Wait for the user to pick the files.\n",
              "  const files = yield {\n",
              "    promise: Promise.race([pickedPromise, cancelPromise]),\n",
              "    response: {\n",
              "      action: 'starting',\n",
              "    }\n",
              "  };\n",
              "\n",
              "  cancel.remove();\n",
              "\n",
              "  // Disable the input element since further picks are not allowed.\n",
              "  inputElement.disabled = true;\n",
              "\n",
              "  if (!files) {\n",
              "    return {\n",
              "      response: {\n",
              "        action: 'complete',\n",
              "      }\n",
              "    };\n",
              "  }\n",
              "\n",
              "  for (const file of files) {\n",
              "    const li = document.createElement('li');\n",
              "    li.append(span(file.name, {fontWeight: 'bold'}));\n",
              "    li.append(span(\n",
              "        `(${file.type || 'n/a'}) - ${file.size} bytes, ` +\n",
              "        `last modified: ${\n",
              "            file.lastModifiedDate ? file.lastModifiedDate.toLocaleDateString() :\n",
              "                                    'n/a'} - `));\n",
              "    const percent = span('0% done');\n",
              "    li.appendChild(percent);\n",
              "\n",
              "    outputElement.appendChild(li);\n",
              "\n",
              "    const fileDataPromise = new Promise((resolve) => {\n",
              "      const reader = new FileReader();\n",
              "      reader.onload = (e) => {\n",
              "        resolve(e.target.result);\n",
              "      };\n",
              "      reader.readAsArrayBuffer(file);\n",
              "    });\n",
              "    // Wait for the data to be ready.\n",
              "    let fileData = yield {\n",
              "      promise: fileDataPromise,\n",
              "      response: {\n",
              "        action: 'continue',\n",
              "      }\n",
              "    };\n",
              "\n",
              "    // Use a chunked sending to avoid message size limits. See b/62115660.\n",
              "    let position = 0;\n",
              "    do {\n",
              "      const length = Math.min(fileData.byteLength - position, MAX_PAYLOAD_SIZE);\n",
              "      const chunk = new Uint8Array(fileData, position, length);\n",
              "      position += length;\n",
              "\n",
              "      const base64 = btoa(String.fromCharCode.apply(null, chunk));\n",
              "      yield {\n",
              "        response: {\n",
              "          action: 'append',\n",
              "          file: file.name,\n",
              "          data: base64,\n",
              "        },\n",
              "      };\n",
              "\n",
              "      let percentDone = fileData.byteLength === 0 ?\n",
              "          100 :\n",
              "          Math.round((position / fileData.byteLength) * 100);\n",
              "      percent.textContent = `${percentDone}% done`;\n",
              "\n",
              "    } while (position < fileData.byteLength);\n",
              "  }\n",
              "\n",
              "  // All done.\n",
              "  yield {\n",
              "    response: {\n",
              "      action: 'complete',\n",
              "    }\n",
              "  };\n",
              "}\n",
              "\n",
              "scope.google = scope.google || {};\n",
              "scope.google.colab = scope.google.colab || {};\n",
              "scope.google.colab._files = {\n",
              "  _uploadFiles,\n",
              "  _uploadFilesContinue,\n",
              "};\n",
              "})(self);\n",
              "</script> "
            ]
          },
          "metadata": {}
        },
        {
          "output_type": "stream",
          "name": "stdout",
          "text": [
            "Saving ACME-HappinessSurvey2020.csv to ACME-HappinessSurvey2020.csv\n"
          ]
        }
      ]
    },
    {
      "cell_type": "code",
      "execution_count": null,
      "metadata": {
        "id": "epTjOamAhveL"
      },
      "outputs": [],
      "source": [
        "#importing useful libraries/modules for this project\n",
        "import numpy as np \n",
        "import pandas as pd\n",
        "import matplotlib.pyplot as mpl\n",
        "import csv\n",
        "from sklearn.model_selection import train_test_split\n",
        "import random\n",
        "import seaborn as sb\n",
        "from sklearn.metrics import confusion_matrix, classification_report, f1_score"
      ]
    },
    {
      "cell_type": "code",
      "source": [
        "#Read data\n",
        "path = 'ACME-HappinessSurvey2020.csv'\n",
        "data = pd.read_csv(path)\n",
        "data.columns = ['Happiness Status' , 'Delivery-satisfaction' , 'Expectation-satisfaction' , 'order-satisfaction' , 'Price-satisfaction' , 'Courier-satisfaction','app-satisfaction' ]\n",
        "data.head()"
      ],
      "metadata": {
        "id": "YhtFjpNBiR0L",
        "colab": {
          "base_uri": "https://localhost:8080/",
          "height": 206
        },
        "outputId": "66307461-33df-4cad-f113-e28ba403cbed"
      },
      "execution_count": null,
      "outputs": [
        {
          "output_type": "execute_result",
          "data": {
            "text/plain": [
              "   Happiness Status  Delivery-satisfaction  Expectation-satisfaction  \\\n",
              "0                 0                      3                         3   \n",
              "1                 0                      3                         2   \n",
              "2                 1                      5                         3   \n",
              "3                 0                      5                         4   \n",
              "4                 0                      5                         4   \n",
              "\n",
              "   order-satisfaction  Price-satisfaction  Courier-satisfaction  \\\n",
              "0                   3                   4                     2   \n",
              "1                   3                   5                     4   \n",
              "2                   3                   3                     3   \n",
              "3                   3                   3                     3   \n",
              "4                   3                   3                     3   \n",
              "\n",
              "   app-satisfaction  \n",
              "0                 4  \n",
              "1                 3  \n",
              "2                 5  \n",
              "3                 5  \n",
              "4                 5  "
            ],
            "text/html": [
              "\n",
              "  <div id=\"df-c4d93ab8-c13d-441f-b9a8-a85d2f8956fd\">\n",
              "    <div class=\"colab-df-container\">\n",
              "      <div>\n",
              "<style scoped>\n",
              "    .dataframe tbody tr th:only-of-type {\n",
              "        vertical-align: middle;\n",
              "    }\n",
              "\n",
              "    .dataframe tbody tr th {\n",
              "        vertical-align: top;\n",
              "    }\n",
              "\n",
              "    .dataframe thead th {\n",
              "        text-align: right;\n",
              "    }\n",
              "</style>\n",
              "<table border=\"1\" class=\"dataframe\">\n",
              "  <thead>\n",
              "    <tr style=\"text-align: right;\">\n",
              "      <th></th>\n",
              "      <th>Happiness Status</th>\n",
              "      <th>Delivery-satisfaction</th>\n",
              "      <th>Expectation-satisfaction</th>\n",
              "      <th>order-satisfaction</th>\n",
              "      <th>Price-satisfaction</th>\n",
              "      <th>Courier-satisfaction</th>\n",
              "      <th>app-satisfaction</th>\n",
              "    </tr>\n",
              "  </thead>\n",
              "  <tbody>\n",
              "    <tr>\n",
              "      <th>0</th>\n",
              "      <td>0</td>\n",
              "      <td>3</td>\n",
              "      <td>3</td>\n",
              "      <td>3</td>\n",
              "      <td>4</td>\n",
              "      <td>2</td>\n",
              "      <td>4</td>\n",
              "    </tr>\n",
              "    <tr>\n",
              "      <th>1</th>\n",
              "      <td>0</td>\n",
              "      <td>3</td>\n",
              "      <td>2</td>\n",
              "      <td>3</td>\n",
              "      <td>5</td>\n",
              "      <td>4</td>\n",
              "      <td>3</td>\n",
              "    </tr>\n",
              "    <tr>\n",
              "      <th>2</th>\n",
              "      <td>1</td>\n",
              "      <td>5</td>\n",
              "      <td>3</td>\n",
              "      <td>3</td>\n",
              "      <td>3</td>\n",
              "      <td>3</td>\n",
              "      <td>5</td>\n",
              "    </tr>\n",
              "    <tr>\n",
              "      <th>3</th>\n",
              "      <td>0</td>\n",
              "      <td>5</td>\n",
              "      <td>4</td>\n",
              "      <td>3</td>\n",
              "      <td>3</td>\n",
              "      <td>3</td>\n",
              "      <td>5</td>\n",
              "    </tr>\n",
              "    <tr>\n",
              "      <th>4</th>\n",
              "      <td>0</td>\n",
              "      <td>5</td>\n",
              "      <td>4</td>\n",
              "      <td>3</td>\n",
              "      <td>3</td>\n",
              "      <td>3</td>\n",
              "      <td>5</td>\n",
              "    </tr>\n",
              "  </tbody>\n",
              "</table>\n",
              "</div>\n",
              "      <button class=\"colab-df-convert\" onclick=\"convertToInteractive('df-c4d93ab8-c13d-441f-b9a8-a85d2f8956fd')\"\n",
              "              title=\"Convert this dataframe to an interactive table.\"\n",
              "              style=\"display:none;\">\n",
              "        \n",
              "  <svg xmlns=\"http://www.w3.org/2000/svg\" height=\"24px\"viewBox=\"0 0 24 24\"\n",
              "       width=\"24px\">\n",
              "    <path d=\"M0 0h24v24H0V0z\" fill=\"none\"/>\n",
              "    <path d=\"M18.56 5.44l.94 2.06.94-2.06 2.06-.94-2.06-.94-.94-2.06-.94 2.06-2.06.94zm-11 1L8.5 8.5l.94-2.06 2.06-.94-2.06-.94L8.5 2.5l-.94 2.06-2.06.94zm10 10l.94 2.06.94-2.06 2.06-.94-2.06-.94-.94-2.06-.94 2.06-2.06.94z\"/><path d=\"M17.41 7.96l-1.37-1.37c-.4-.4-.92-.59-1.43-.59-.52 0-1.04.2-1.43.59L10.3 9.45l-7.72 7.72c-.78.78-.78 2.05 0 2.83L4 21.41c.39.39.9.59 1.41.59.51 0 1.02-.2 1.41-.59l7.78-7.78 2.81-2.81c.8-.78.8-2.07 0-2.86zM5.41 20L4 18.59l7.72-7.72 1.47 1.35L5.41 20z\"/>\n",
              "  </svg>\n",
              "      </button>\n",
              "      \n",
              "  <style>\n",
              "    .colab-df-container {\n",
              "      display:flex;\n",
              "      flex-wrap:wrap;\n",
              "      gap: 12px;\n",
              "    }\n",
              "\n",
              "    .colab-df-convert {\n",
              "      background-color: #E8F0FE;\n",
              "      border: none;\n",
              "      border-radius: 50%;\n",
              "      cursor: pointer;\n",
              "      display: none;\n",
              "      fill: #1967D2;\n",
              "      height: 32px;\n",
              "      padding: 0 0 0 0;\n",
              "      width: 32px;\n",
              "    }\n",
              "\n",
              "    .colab-df-convert:hover {\n",
              "      background-color: #E2EBFA;\n",
              "      box-shadow: 0px 1px 2px rgba(60, 64, 67, 0.3), 0px 1px 3px 1px rgba(60, 64, 67, 0.15);\n",
              "      fill: #174EA6;\n",
              "    }\n",
              "\n",
              "    [theme=dark] .colab-df-convert {\n",
              "      background-color: #3B4455;\n",
              "      fill: #D2E3FC;\n",
              "    }\n",
              "\n",
              "    [theme=dark] .colab-df-convert:hover {\n",
              "      background-color: #434B5C;\n",
              "      box-shadow: 0px 1px 3px 1px rgba(0, 0, 0, 0.15);\n",
              "      filter: drop-shadow(0px 1px 2px rgba(0, 0, 0, 0.3));\n",
              "      fill: #FFFFFF;\n",
              "    }\n",
              "  </style>\n",
              "\n",
              "      <script>\n",
              "        const buttonEl =\n",
              "          document.querySelector('#df-c4d93ab8-c13d-441f-b9a8-a85d2f8956fd button.colab-df-convert');\n",
              "        buttonEl.style.display =\n",
              "          google.colab.kernel.accessAllowed ? 'block' : 'none';\n",
              "\n",
              "        async function convertToInteractive(key) {\n",
              "          const element = document.querySelector('#df-c4d93ab8-c13d-441f-b9a8-a85d2f8956fd');\n",
              "          const dataTable =\n",
              "            await google.colab.kernel.invokeFunction('convertToInteractive',\n",
              "                                                     [key], {});\n",
              "          if (!dataTable) return;\n",
              "\n",
              "          const docLinkHtml = 'Like what you see? Visit the ' +\n",
              "            '<a target=\"_blank\" href=https://colab.research.google.com/notebooks/data_table.ipynb>data table notebook</a>'\n",
              "            + ' to learn more about interactive tables.';\n",
              "          element.innerHTML = '';\n",
              "          dataTable['output_type'] = 'display_data';\n",
              "          await google.colab.output.renderOutput(dataTable, element);\n",
              "          const docLink = document.createElement('div');\n",
              "          docLink.innerHTML = docLinkHtml;\n",
              "          element.appendChild(docLink);\n",
              "        }\n",
              "      </script>\n",
              "    </div>\n",
              "  </div>\n",
              "  "
            ]
          },
          "metadata": {},
          "execution_count": 4
        }
      ]
    },
    {
      "cell_type": "code",
      "source": [
        "data.info()"
      ],
      "metadata": {
        "colab": {
          "base_uri": "https://localhost:8080/"
        },
        "id": "d6hcnvlyjQxE",
        "outputId": "8f8b0ebd-22e8-447d-ad15-ea16f93c44fc"
      },
      "execution_count": null,
      "outputs": [
        {
          "output_type": "stream",
          "name": "stdout",
          "text": [
            "<class 'pandas.core.frame.DataFrame'>\n",
            "RangeIndex: 126 entries, 0 to 125\n",
            "Data columns (total 7 columns):\n",
            " #   Column                    Non-Null Count  Dtype\n",
            "---  ------                    --------------  -----\n",
            " 0   Happiness Status          126 non-null    int64\n",
            " 1   Delivery-satisfaction     126 non-null    int64\n",
            " 2   Expectation-satisfaction  126 non-null    int64\n",
            " 3   order-satisfaction        126 non-null    int64\n",
            " 4   Price-satisfaction        126 non-null    int64\n",
            " 5   Courier-satisfaction      126 non-null    int64\n",
            " 6   app-satisfaction          126 non-null    int64\n",
            "dtypes: int64(7)\n",
            "memory usage: 7.0 KB\n"
          ]
        }
      ]
    },
    {
      "cell_type": "code",
      "source": [
        "#describtion of data\n",
        "data.describe()"
      ],
      "metadata": {
        "colab": {
          "base_uri": "https://localhost:8080/",
          "height": 300
        },
        "id": "OxnLtggdkDbA",
        "outputId": "41345486-e405-49fa-c49a-96f6a45446f0"
      },
      "execution_count": null,
      "outputs": [
        {
          "output_type": "execute_result",
          "data": {
            "text/plain": [
              "       Happiness Status  Delivery-satisfaction  Expectation-satisfaction  \\\n",
              "count        126.000000             126.000000                126.000000   \n",
              "mean           0.547619               4.333333                  2.531746   \n",
              "std            0.499714               0.800000                  1.114892   \n",
              "min            0.000000               1.000000                  1.000000   \n",
              "25%            0.000000               4.000000                  2.000000   \n",
              "50%            1.000000               5.000000                  3.000000   \n",
              "75%            1.000000               5.000000                  3.000000   \n",
              "max            1.000000               5.000000                  5.000000   \n",
              "\n",
              "       order-satisfaction  Price-satisfaction  Courier-satisfaction  \\\n",
              "count          126.000000          126.000000            126.000000   \n",
              "mean             3.309524            3.746032              3.650794   \n",
              "std              1.023440            0.875776              1.147641   \n",
              "min              1.000000            1.000000              1.000000   \n",
              "25%              3.000000            3.000000              3.000000   \n",
              "50%              3.000000            4.000000              4.000000   \n",
              "75%              4.000000            4.000000              4.000000   \n",
              "max              5.000000            5.000000              5.000000   \n",
              "\n",
              "       app-satisfaction  \n",
              "count        126.000000  \n",
              "mean           4.253968  \n",
              "std            0.809311  \n",
              "min            1.000000  \n",
              "25%            4.000000  \n",
              "50%            4.000000  \n",
              "75%            5.000000  \n",
              "max            5.000000  "
            ],
            "text/html": [
              "\n",
              "  <div id=\"df-7a9265aa-8e5d-443d-89ad-7b7c22d953dd\">\n",
              "    <div class=\"colab-df-container\">\n",
              "      <div>\n",
              "<style scoped>\n",
              "    .dataframe tbody tr th:only-of-type {\n",
              "        vertical-align: middle;\n",
              "    }\n",
              "\n",
              "    .dataframe tbody tr th {\n",
              "        vertical-align: top;\n",
              "    }\n",
              "\n",
              "    .dataframe thead th {\n",
              "        text-align: right;\n",
              "    }\n",
              "</style>\n",
              "<table border=\"1\" class=\"dataframe\">\n",
              "  <thead>\n",
              "    <tr style=\"text-align: right;\">\n",
              "      <th></th>\n",
              "      <th>Happiness Status</th>\n",
              "      <th>Delivery-satisfaction</th>\n",
              "      <th>Expectation-satisfaction</th>\n",
              "      <th>order-satisfaction</th>\n",
              "      <th>Price-satisfaction</th>\n",
              "      <th>Courier-satisfaction</th>\n",
              "      <th>app-satisfaction</th>\n",
              "    </tr>\n",
              "  </thead>\n",
              "  <tbody>\n",
              "    <tr>\n",
              "      <th>count</th>\n",
              "      <td>126.000000</td>\n",
              "      <td>126.000000</td>\n",
              "      <td>126.000000</td>\n",
              "      <td>126.000000</td>\n",
              "      <td>126.000000</td>\n",
              "      <td>126.000000</td>\n",
              "      <td>126.000000</td>\n",
              "    </tr>\n",
              "    <tr>\n",
              "      <th>mean</th>\n",
              "      <td>0.547619</td>\n",
              "      <td>4.333333</td>\n",
              "      <td>2.531746</td>\n",
              "      <td>3.309524</td>\n",
              "      <td>3.746032</td>\n",
              "      <td>3.650794</td>\n",
              "      <td>4.253968</td>\n",
              "    </tr>\n",
              "    <tr>\n",
              "      <th>std</th>\n",
              "      <td>0.499714</td>\n",
              "      <td>0.800000</td>\n",
              "      <td>1.114892</td>\n",
              "      <td>1.023440</td>\n",
              "      <td>0.875776</td>\n",
              "      <td>1.147641</td>\n",
              "      <td>0.809311</td>\n",
              "    </tr>\n",
              "    <tr>\n",
              "      <th>min</th>\n",
              "      <td>0.000000</td>\n",
              "      <td>1.000000</td>\n",
              "      <td>1.000000</td>\n",
              "      <td>1.000000</td>\n",
              "      <td>1.000000</td>\n",
              "      <td>1.000000</td>\n",
              "      <td>1.000000</td>\n",
              "    </tr>\n",
              "    <tr>\n",
              "      <th>25%</th>\n",
              "      <td>0.000000</td>\n",
              "      <td>4.000000</td>\n",
              "      <td>2.000000</td>\n",
              "      <td>3.000000</td>\n",
              "      <td>3.000000</td>\n",
              "      <td>3.000000</td>\n",
              "      <td>4.000000</td>\n",
              "    </tr>\n",
              "    <tr>\n",
              "      <th>50%</th>\n",
              "      <td>1.000000</td>\n",
              "      <td>5.000000</td>\n",
              "      <td>3.000000</td>\n",
              "      <td>3.000000</td>\n",
              "      <td>4.000000</td>\n",
              "      <td>4.000000</td>\n",
              "      <td>4.000000</td>\n",
              "    </tr>\n",
              "    <tr>\n",
              "      <th>75%</th>\n",
              "      <td>1.000000</td>\n",
              "      <td>5.000000</td>\n",
              "      <td>3.000000</td>\n",
              "      <td>4.000000</td>\n",
              "      <td>4.000000</td>\n",
              "      <td>4.000000</td>\n",
              "      <td>5.000000</td>\n",
              "    </tr>\n",
              "    <tr>\n",
              "      <th>max</th>\n",
              "      <td>1.000000</td>\n",
              "      <td>5.000000</td>\n",
              "      <td>5.000000</td>\n",
              "      <td>5.000000</td>\n",
              "      <td>5.000000</td>\n",
              "      <td>5.000000</td>\n",
              "      <td>5.000000</td>\n",
              "    </tr>\n",
              "  </tbody>\n",
              "</table>\n",
              "</div>\n",
              "      <button class=\"colab-df-convert\" onclick=\"convertToInteractive('df-7a9265aa-8e5d-443d-89ad-7b7c22d953dd')\"\n",
              "              title=\"Convert this dataframe to an interactive table.\"\n",
              "              style=\"display:none;\">\n",
              "        \n",
              "  <svg xmlns=\"http://www.w3.org/2000/svg\" height=\"24px\"viewBox=\"0 0 24 24\"\n",
              "       width=\"24px\">\n",
              "    <path d=\"M0 0h24v24H0V0z\" fill=\"none\"/>\n",
              "    <path d=\"M18.56 5.44l.94 2.06.94-2.06 2.06-.94-2.06-.94-.94-2.06-.94 2.06-2.06.94zm-11 1L8.5 8.5l.94-2.06 2.06-.94-2.06-.94L8.5 2.5l-.94 2.06-2.06.94zm10 10l.94 2.06.94-2.06 2.06-.94-2.06-.94-.94-2.06-.94 2.06-2.06.94z\"/><path d=\"M17.41 7.96l-1.37-1.37c-.4-.4-.92-.59-1.43-.59-.52 0-1.04.2-1.43.59L10.3 9.45l-7.72 7.72c-.78.78-.78 2.05 0 2.83L4 21.41c.39.39.9.59 1.41.59.51 0 1.02-.2 1.41-.59l7.78-7.78 2.81-2.81c.8-.78.8-2.07 0-2.86zM5.41 20L4 18.59l7.72-7.72 1.47 1.35L5.41 20z\"/>\n",
              "  </svg>\n",
              "      </button>\n",
              "      \n",
              "  <style>\n",
              "    .colab-df-container {\n",
              "      display:flex;\n",
              "      flex-wrap:wrap;\n",
              "      gap: 12px;\n",
              "    }\n",
              "\n",
              "    .colab-df-convert {\n",
              "      background-color: #E8F0FE;\n",
              "      border: none;\n",
              "      border-radius: 50%;\n",
              "      cursor: pointer;\n",
              "      display: none;\n",
              "      fill: #1967D2;\n",
              "      height: 32px;\n",
              "      padding: 0 0 0 0;\n",
              "      width: 32px;\n",
              "    }\n",
              "\n",
              "    .colab-df-convert:hover {\n",
              "      background-color: #E2EBFA;\n",
              "      box-shadow: 0px 1px 2px rgba(60, 64, 67, 0.3), 0px 1px 3px 1px rgba(60, 64, 67, 0.15);\n",
              "      fill: #174EA6;\n",
              "    }\n",
              "\n",
              "    [theme=dark] .colab-df-convert {\n",
              "      background-color: #3B4455;\n",
              "      fill: #D2E3FC;\n",
              "    }\n",
              "\n",
              "    [theme=dark] .colab-df-convert:hover {\n",
              "      background-color: #434B5C;\n",
              "      box-shadow: 0px 1px 3px 1px rgba(0, 0, 0, 0.15);\n",
              "      filter: drop-shadow(0px 1px 2px rgba(0, 0, 0, 0.3));\n",
              "      fill: #FFFFFF;\n",
              "    }\n",
              "  </style>\n",
              "\n",
              "      <script>\n",
              "        const buttonEl =\n",
              "          document.querySelector('#df-7a9265aa-8e5d-443d-89ad-7b7c22d953dd button.colab-df-convert');\n",
              "        buttonEl.style.display =\n",
              "          google.colab.kernel.accessAllowed ? 'block' : 'none';\n",
              "\n",
              "        async function convertToInteractive(key) {\n",
              "          const element = document.querySelector('#df-7a9265aa-8e5d-443d-89ad-7b7c22d953dd');\n",
              "          const dataTable =\n",
              "            await google.colab.kernel.invokeFunction('convertToInteractive',\n",
              "                                                     [key], {});\n",
              "          if (!dataTable) return;\n",
              "\n",
              "          const docLinkHtml = 'Like what you see? Visit the ' +\n",
              "            '<a target=\"_blank\" href=https://colab.research.google.com/notebooks/data_table.ipynb>data table notebook</a>'\n",
              "            + ' to learn more about interactive tables.';\n",
              "          element.innerHTML = '';\n",
              "          dataTable['output_type'] = 'display_data';\n",
              "          await google.colab.output.renderOutput(dataTable, element);\n",
              "          const docLink = document.createElement('div');\n",
              "          docLink.innerHTML = docLinkHtml;\n",
              "          element.appendChild(docLink);\n",
              "        }\n",
              "      </script>\n",
              "    </div>\n",
              "  </div>\n",
              "  "
            ]
          },
          "metadata": {},
          "execution_count": 6
        }
      ]
    },
    {
      "cell_type": "code",
      "source": [
        "#mean/average calculator\n",
        "# Reminder 0 is not happy and 1 is happy\n",
        "data.groupby('Happiness Status').mean()"
      ],
      "metadata": {
        "colab": {
          "base_uri": "https://localhost:8080/",
          "height": 143
        },
        "id": "RW1yQNMGkF-T",
        "outputId": "6e155e26-d91a-4017-aed0-8587ee439878"
      },
      "execution_count": null,
      "outputs": [
        {
          "output_type": "execute_result",
          "data": {
            "text/plain": [
              "                  Delivery-satisfaction  Expectation-satisfaction  \\\n",
              "Happiness Status                                                    \n",
              "0                              4.087719                  2.561404   \n",
              "1                              4.536232                  2.507246   \n",
              "\n",
              "                  order-satisfaction  Price-satisfaction  \\\n",
              "Happiness Status                                           \n",
              "0                           3.140351            3.684211   \n",
              "1                           3.449275            3.797101   \n",
              "\n",
              "                  Courier-satisfaction  app-satisfaction  \n",
              "Happiness Status                                          \n",
              "0                             3.368421          4.105263  \n",
              "1                             3.884058          4.376812  "
            ],
            "text/html": [
              "\n",
              "  <div id=\"df-bc6554d8-88ce-42cc-b708-bd8e37008bfa\">\n",
              "    <div class=\"colab-df-container\">\n",
              "      <div>\n",
              "<style scoped>\n",
              "    .dataframe tbody tr th:only-of-type {\n",
              "        vertical-align: middle;\n",
              "    }\n",
              "\n",
              "    .dataframe tbody tr th {\n",
              "        vertical-align: top;\n",
              "    }\n",
              "\n",
              "    .dataframe thead th {\n",
              "        text-align: right;\n",
              "    }\n",
              "</style>\n",
              "<table border=\"1\" class=\"dataframe\">\n",
              "  <thead>\n",
              "    <tr style=\"text-align: right;\">\n",
              "      <th></th>\n",
              "      <th>Delivery-satisfaction</th>\n",
              "      <th>Expectation-satisfaction</th>\n",
              "      <th>order-satisfaction</th>\n",
              "      <th>Price-satisfaction</th>\n",
              "      <th>Courier-satisfaction</th>\n",
              "      <th>app-satisfaction</th>\n",
              "    </tr>\n",
              "    <tr>\n",
              "      <th>Happiness Status</th>\n",
              "      <th></th>\n",
              "      <th></th>\n",
              "      <th></th>\n",
              "      <th></th>\n",
              "      <th></th>\n",
              "      <th></th>\n",
              "    </tr>\n",
              "  </thead>\n",
              "  <tbody>\n",
              "    <tr>\n",
              "      <th>0</th>\n",
              "      <td>4.087719</td>\n",
              "      <td>2.561404</td>\n",
              "      <td>3.140351</td>\n",
              "      <td>3.684211</td>\n",
              "      <td>3.368421</td>\n",
              "      <td>4.105263</td>\n",
              "    </tr>\n",
              "    <tr>\n",
              "      <th>1</th>\n",
              "      <td>4.536232</td>\n",
              "      <td>2.507246</td>\n",
              "      <td>3.449275</td>\n",
              "      <td>3.797101</td>\n",
              "      <td>3.884058</td>\n",
              "      <td>4.376812</td>\n",
              "    </tr>\n",
              "  </tbody>\n",
              "</table>\n",
              "</div>\n",
              "      <button class=\"colab-df-convert\" onclick=\"convertToInteractive('df-bc6554d8-88ce-42cc-b708-bd8e37008bfa')\"\n",
              "              title=\"Convert this dataframe to an interactive table.\"\n",
              "              style=\"display:none;\">\n",
              "        \n",
              "  <svg xmlns=\"http://www.w3.org/2000/svg\" height=\"24px\"viewBox=\"0 0 24 24\"\n",
              "       width=\"24px\">\n",
              "    <path d=\"M0 0h24v24H0V0z\" fill=\"none\"/>\n",
              "    <path d=\"M18.56 5.44l.94 2.06.94-2.06 2.06-.94-2.06-.94-.94-2.06-.94 2.06-2.06.94zm-11 1L8.5 8.5l.94-2.06 2.06-.94-2.06-.94L8.5 2.5l-.94 2.06-2.06.94zm10 10l.94 2.06.94-2.06 2.06-.94-2.06-.94-.94-2.06-.94 2.06-2.06.94z\"/><path d=\"M17.41 7.96l-1.37-1.37c-.4-.4-.92-.59-1.43-.59-.52 0-1.04.2-1.43.59L10.3 9.45l-7.72 7.72c-.78.78-.78 2.05 0 2.83L4 21.41c.39.39.9.59 1.41.59.51 0 1.02-.2 1.41-.59l7.78-7.78 2.81-2.81c.8-.78.8-2.07 0-2.86zM5.41 20L4 18.59l7.72-7.72 1.47 1.35L5.41 20z\"/>\n",
              "  </svg>\n",
              "      </button>\n",
              "      \n",
              "  <style>\n",
              "    .colab-df-container {\n",
              "      display:flex;\n",
              "      flex-wrap:wrap;\n",
              "      gap: 12px;\n",
              "    }\n",
              "\n",
              "    .colab-df-convert {\n",
              "      background-color: #E8F0FE;\n",
              "      border: none;\n",
              "      border-radius: 50%;\n",
              "      cursor: pointer;\n",
              "      display: none;\n",
              "      fill: #1967D2;\n",
              "      height: 32px;\n",
              "      padding: 0 0 0 0;\n",
              "      width: 32px;\n",
              "    }\n",
              "\n",
              "    .colab-df-convert:hover {\n",
              "      background-color: #E2EBFA;\n",
              "      box-shadow: 0px 1px 2px rgba(60, 64, 67, 0.3), 0px 1px 3px 1px rgba(60, 64, 67, 0.15);\n",
              "      fill: #174EA6;\n",
              "    }\n",
              "\n",
              "    [theme=dark] .colab-df-convert {\n",
              "      background-color: #3B4455;\n",
              "      fill: #D2E3FC;\n",
              "    }\n",
              "\n",
              "    [theme=dark] .colab-df-convert:hover {\n",
              "      background-color: #434B5C;\n",
              "      box-shadow: 0px 1px 3px 1px rgba(0, 0, 0, 0.15);\n",
              "      filter: drop-shadow(0px 1px 2px rgba(0, 0, 0, 0.3));\n",
              "      fill: #FFFFFF;\n",
              "    }\n",
              "  </style>\n",
              "\n",
              "      <script>\n",
              "        const buttonEl =\n",
              "          document.querySelector('#df-bc6554d8-88ce-42cc-b708-bd8e37008bfa button.colab-df-convert');\n",
              "        buttonEl.style.display =\n",
              "          google.colab.kernel.accessAllowed ? 'block' : 'none';\n",
              "\n",
              "        async function convertToInteractive(key) {\n",
              "          const element = document.querySelector('#df-bc6554d8-88ce-42cc-b708-bd8e37008bfa');\n",
              "          const dataTable =\n",
              "            await google.colab.kernel.invokeFunction('convertToInteractive',\n",
              "                                                     [key], {});\n",
              "          if (!dataTable) return;\n",
              "\n",
              "          const docLinkHtml = 'Like what you see? Visit the ' +\n",
              "            '<a target=\"_blank\" href=https://colab.research.google.com/notebooks/data_table.ipynb>data table notebook</a>'\n",
              "            + ' to learn more about interactive tables.';\n",
              "          element.innerHTML = '';\n",
              "          dataTable['output_type'] = 'display_data';\n",
              "          await google.colab.output.renderOutput(dataTable, element);\n",
              "          const docLink = document.createElement('div');\n",
              "          docLink.innerHTML = docLinkHtml;\n",
              "          element.appendChild(docLink);\n",
              "        }\n",
              "      </script>\n",
              "    </div>\n",
              "  </div>\n",
              "  "
            ]
          },
          "metadata": {},
          "execution_count": 7
        }
      ]
    },
    {
      "cell_type": "code",
      "source": [
        "#display avg of each response in graph\n",
        "def AnalyzeAtt (data, Colname) :\n",
        "    #histogram \n",
        "    bins = np.arange(1,7) - 0.99\n",
        "    mpl.hist(data[Colname],bins)\n",
        "    mpl.title(Colname)\n",
        "    mpl.show()\n",
        "    \n",
        "    #Display avg on bottom\n",
        "    print (\" Average for \" + Colname + \"value is \", data[Colname].mean())\n",
        "\n"
      ],
      "metadata": {
        "id": "PoCYj0HZkPEx"
      },
      "execution_count": null,
      "outputs": []
    },
    {
      "cell_type": "code",
      "source": [
        "for i in range(1,7) :\n",
        "    AnalyzeAtt(data, data.columns[i])"
      ],
      "metadata": {
        "colab": {
          "base_uri": "https://localhost:8080/",
          "height": 1000
        },
        "id": "b97g0K5vkXeH",
        "outputId": "7c841721-21c0-4d49-de3b-5b7bb2d8b5c4"
      },
      "execution_count": null,
      "outputs": [
        {
          "output_type": "display_data",
          "data": {
            "text/plain": [
              "<Figure size 432x288 with 1 Axes>"
            ],
            "image/png": "[encoded data removed]"
          },
          "metadata": {
            "needs_background": "light"
          }
        },
        {
          "output_type": "stream",
          "name": "stdout",
          "text": [
            " Average for Delivery-satisfactionvalue is  4.333333333333333\n"
          ]
        },
        {
          "output_type": "display_data",
          "data": {
            "text/plain": [
              "<Figure size 432x288 with 1 Axes>"
            ],
            "image/png": "[encoded data removed]"
          },
          "metadata": {
            "needs_background": "light"
          }
        },
        {
          "output_type": "stream",
          "name": "stdout",
          "text": [
            " Average for Expectation-satisfactionvalue is  2.5317460317460316\n"
          ]
        },
        {
          "output_type": "display_data",
          "data": {
            "text/plain": [
              "<Figure size 432x288 with 1 Axes>"
            ],
            "image/png": "[encoded data removed]"
          },
          "metadata": {
            "needs_background": "light"
          }
        },
        {
          "output_type": "stream",
          "name": "stdout",
          "text": [
            " Average for order-satisfactionvalue is  3.3095238095238093\n"
          ]
        },
        {
          "output_type": "display_data",
          "data": {
            "text/plain": [
              "<Figure size 432x288 with 1 Axes>"
            ],
            "image/png": "[encoded data removed]"
          },
          "metadata": {
            "needs_background": "light"
          }
        },
        {
          "output_type": "stream",
          "name": "stdout",
          "text": [
            " Average for Price-satisfactionvalue is  3.746031746031746\n"
          ]
        },
        {
          "output_type": "display_data",
          "data": {
            "text/plain": [
              "<Figure size 432x288 with 1 Axes>"
            ],
            "image/png": "[encoded data removed]"
          },
          "metadata": {
            "needs_background": "light"
          }
        },
        {
          "output_type": "stream",
          "name": "stdout",
          "text": [
            " Average for Courier-satisfactionvalue is  3.6507936507936507\n"
          ]
        },
        {
          "output_type": "display_data",
          "data": {
            "text/plain": [
              "<Figure size 432x288 with 1 Axes>"
            ],
            "image/png": "[encoded data removed]"
          },
          "metadata": {
            "needs_background": "light"
          }
        },
        {
          "output_type": "stream",
          "name": "stdout",
          "text": [
            " Average for app-satisfactionvalue is  4.253968253968254\n"
          ]
        }
      ]
    },
    {
      "cell_type": "markdown",
      "source": [
        "PreProcessing \n",
        "\n",
        "which means we devide datas into 80 % (train) + 20 % (test)\n"
      ],
      "metadata": {
        "id": "cRGAViA7klQ0"
      }
    },
    {
      "cell_type": "code",
      "source": [
        "#initially devide data to X and Y column\n",
        "X = data.drop(columns ='Happiness Status')\n",
        "Y = data['Happiness Status']\n",
        "\n",
        "#Split data for training the model\n",
        "#using train_test_split function\n",
        "xTrain,xTest,yTrain, yTest = train_test_split(X,Y, test_size = 0.2, random_state=0) \n",
        "\n",
        "#get the size of each column and row\n",
        "print(xTrain.shape)\n",
        "print(xTest.shape)\n",
        "print(yTrain.shape)\n",
        "print(yTest.shape)"
      ],
      "metadata": {
        "colab": {
          "base_uri": "https://localhost:8080/"
        },
        "id": "eRTdWavIkigl",
        "outputId": "314a83cb-0285-443e-d771-acd76b91108f"
      },
      "execution_count": null,
      "outputs": [
        {
          "output_type": "stream",
          "name": "stdout",
          "text": [
            "(100, 6)\n",
            "(26, 6)\n",
            "(100,)\n",
            "(26,)\n"
          ]
        }
      ]
    },
    {
      "cell_type": "markdown",
      "source": [
        "Train Model\n",
        "\n",
        "For this part, I used 3 different model based on reseach as these model has higher accuracy for prediction"
      ],
      "metadata": {
        "id": "saaii82dkqOX"
      }
    },
    {
      "cell_type": "markdown",
      "source": [
        "1. K-neighbour Classifier ( KNN) \n",
        "2. SVM\n",
        "3. Decision Tree"
      ],
      "metadata": {
        "id": "UWDBZ2WakubK"
      }
    },
    {
      "cell_type": "markdown",
      "source": [
        "1. KNN model\n",
        "\n",
        "\n",
        "this model create a boundry to classify data. The model will try to predict in the nearest boundry line\n",
        "Hence larger K value means smoother curves of separation which results a less complex model."
      ],
      "metadata": {
        "id": "Pv3f89aOkv6s"
      }
    },
    {
      "cell_type": "code",
      "source": [
        "from sklearn.neighbors import KNeighborsClassifier\n",
        "\n",
        "#to get the best results, create a F1 score vs. K value graph to find approximate best K value\n",
        "KinRange = range (1,80)\n",
        "results =[]\n",
        "\n",
        "# find a F1 score vs K - value graph to find the best K value \n",
        "for k in KinRange :\n",
        "  KNN = KNeighborsClassifier(n_neighbors = k)\n",
        "  KNN = KNN.fit (xTrain, yTrain)\n",
        "\n",
        "  yPred = KNN.predict(xTest)\n",
        "\n",
        "  results.append(f1_score(yTest, yPred))\n",
        "  \n",
        "# As code will print out the results value 9 as they starting K count from 0, hence we add +1 to results to get the accurate answer\n",
        "#plot F1 Score vs K value \n",
        "mpl.plot(range(1,len(results)+1), results)\n",
        "mpl.xlabel( \"K value\")\n",
        "mpl.ylabel (\"F1 Score\")\n",
        "\n",
        "# As code will print out the results value 9 as they starting K count from 0, hence we add +1 to results to get the accurate answer\n",
        "print(results.index(max(results))+1, max(results)) \n",
        "\n"
      ],
      "metadata": {
        "colab": {
          "base_uri": "https://localhost:8080/",
          "height": 296
        },
        "id": "lg6EZ7hZk0sk",
        "outputId": "f376253a-591c-4af6-99b5-807a95d7483f"
      },
      "execution_count": null,
      "outputs": [
        {
          "output_type": "stream",
          "name": "stdout",
          "text": [
            "10 0.7407407407407408\n"
          ]
        },
        {
          "output_type": "display_data",
          "data": {
            "text/plain": [
              "<Figure size 432x288 with 1 Axes>"
            ],
            "image/png": "[encoded data removed]"
          },
          "metadata": {
            "needs_background": "light"
          }
        }
      ]
    },
    {
      "cell_type": "markdown",
      "source": [
        "Now recreate KNN model with Max F1 score where K = 10"
      ],
      "metadata": {
        "id": "xMrTZjlbqO7B"
      }
    },
    {
      "cell_type": "code",
      "source": [
        "KNN = KNeighborsClassifier(n_neighbors = 10)\n",
        "KNN = KNN.fit(xTrain, yTrain)\n",
        "\n",
        "yPred = KNN.predict(xTest)\n",
        "\n",
        "    \n",
        "    # Visualize classification report with precision, recall and F1 score\n",
        "print(classification_report(yTest, yPred))\n",
        "\n",
        "    # Create Confusion matrix vector\n",
        "confMatrix = confusion_matrix(yTest, yPred)\n",
        "dfConfMatrix = pd.DataFrame(confMatrix, index = [i for i in \"01\"], \n",
        "                                columns = [i for i in \"01\"])\n",
        "    # Print F1 Score\n",
        "print('F1 Score ', f1_score(yTest, yPred))\n",
        "    \n",
        "    # Plot Confusion matrix\n",
        "sb.heatmap(dfConfMatrix, annot = True)\n",
        "mpl.ylabel('Actual Label')\n",
        "mpl.xlabel('Predicted Label')\n",
        "mpl.show()"
      ],
      "metadata": {
        "colab": {
          "base_uri": "https://localhost:8080/",
          "height": 457
        },
        "id": "vdW_A31pqSM4",
        "outputId": "bfaa8644-f355-4aa8-da8b-33ab3f9f23c9"
      },
      "execution_count": null,
      "outputs": [
        {
          "output_type": "stream",
          "name": "stdout",
          "text": [
            "              precision    recall  f1-score   support\n",
            "\n",
            "           0       0.75      0.69      0.72        13\n",
            "           1       0.71      0.77      0.74        13\n",
            "\n",
            "    accuracy                           0.73        26\n",
            "   macro avg       0.73      0.73      0.73        26\n",
            "weighted avg       0.73      0.73      0.73        26\n",
            "\n",
            "F1 Score  0.7407407407407408\n"
          ]
        },
        {
          "output_type": "display_data",
          "data": {
            "text/plain": [
              "<Figure size 432x288 with 2 Axes>"
            ],
            "image/png": "[encoded data removed]"
          },
          "metadata": {
            "needs_background": "light"
          }
        }
      ]
    },
    {
      "cell_type": "markdown",
      "source": [
        "The accuracy of model is below 73% hence this model cannot be useful.\n"
      ],
      "metadata": {
        "id": "C2ZvtbpYsDuL"
      }
    },
    {
      "cell_type": "markdown",
      "source": [
        "2. SVM model\n",
        "\n",
        "\n",
        "This model takes the data and putput the hyperline a best separate place. It is known as decision boundry\n",
        "\n",
        "The model is : Create model -> fit model -> make a prediction based on test data -> Results\n"
      ],
      "metadata": {
        "id": "s0EmYMSStiis"
      }
    },
    {
      "cell_type": "code",
      "source": [
        "from sklearn import svm\n",
        "from sklearn.pipeline import Pipeline\n",
        "from sklearn.preprocessing import StandardScaler\n",
        "\n",
        "#Creating model\n",
        "SVMmodel = Pipeline([('scale', StandardScaler()),# mean = 0 and variance = 1\n",
        "                  ('SVM', svm.SVC())])\n",
        "\n",
        "#fitting model \n",
        "SVMmodel = SVMmodel.fit(xTrain, yTrain)\n",
        "\n",
        "#Prediction\n",
        "yPred = SVMmodel.predict(xTest)\n",
        "\n",
        "#Results\n",
        "    # Visualize classification report with precision, recall and F1 score\n",
        "print(classification_report(yTest, yPred))\n",
        "\n",
        "    # Create Confusion matrix vector\n",
        "confMatrix = confusion_matrix(yTest, yPred)\n",
        "dfConfMatrix = pd.DataFrame(confMatrix, index = [i for i in \"01\"], \n",
        "                                columns = [i for i in \"01\"])\n",
        "    # Print F1 Score\n",
        "print('F1 Score ', f1_score(yTest, yPred))\n",
        "    \n",
        "    # Plot Confusion matrix\n",
        "sb.heatmap(dfConfMatrix, annot = True)\n",
        "mpl.ylabel('Actual Label')\n",
        "mpl.xlabel('Predicted Label')\n",
        "mpl.show()"
      ],
      "metadata": {
        "colab": {
          "base_uri": "https://localhost:8080/",
          "height": 457
        },
        "id": "RHpESYp-uSdU",
        "outputId": "b73b6247-abb4-464e-f0f2-04f85fd8c841"
      },
      "execution_count": null,
      "outputs": [
        {
          "output_type": "stream",
          "name": "stdout",
          "text": [
            "              precision    recall  f1-score   support\n",
            "\n",
            "           0       0.50      0.38      0.43        13\n",
            "           1       0.50      0.62      0.55        13\n",
            "\n",
            "    accuracy                           0.50        26\n",
            "   macro avg       0.50      0.50      0.49        26\n",
            "weighted avg       0.50      0.50      0.49        26\n",
            "\n",
            "F1 Score  0.5517241379310345\n"
          ]
        },
        {
          "output_type": "display_data",
          "data": {
            "text/plain": [
              "<Figure size 432x288 with 2 Axes>"
            ],
            "image/png": "[encoded data removed]"
          },
          "metadata": {
            "needs_background": "light"
          }
        }
      ]
    },
    {
      "cell_type": "markdown",
      "source": [
        "The accuracy of model is below 73% hence this model cannot be useful.\n"
      ],
      "metadata": {
        "id": "iNMArt8wwAqh"
      }
    },
    {
      "cell_type": "markdown",
      "source": [
        "3. Random Forest model\n",
        "\n",
        "\n"
      ],
      "metadata": {
        "id": "qVU7XduEwgBO"
      }
    },
    {
      "cell_type": "code",
      "source": [
        "from sklearn.ensemble import RandomForestClassifier\n",
        "\n",
        "RandomModel = RandomForestClassifier()\n",
        "RandomModel = RandomModel.fit(xTrain, yTrain)\n",
        "\n",
        "yPred = RandomModel.predict(xTest)\n",
        "\n",
        "#Results\n",
        "    # Visualize classification report with precision, recall and F1 score\n",
        "print(classification_report(yTest, yPred))\n",
        "\n",
        "    # Create Confusion matrix vector\n",
        "confMatrix = confusion_matrix(yTest, yPred)\n",
        "dfConfMatrix = pd.DataFrame(confMatrix, index = [i for i in \"01\"], \n",
        "                                columns = [i for i in \"01\"])\n",
        "    # Print F1 Score\n",
        "print('F1 Score ', f1_score(yTest, yPred))\n",
        "    \n",
        "    # Plot Confusion matrix\n",
        "sb.heatmap(dfConfMatrix, annot = True)\n",
        "mpl.ylabel('Actual Label')\n",
        "mpl.xlabel('Predicted Label')\n",
        "mpl.show()"
      ],
      "metadata": {
        "colab": {
          "base_uri": "https://localhost:8080/",
          "height": 457
        },
        "id": "zmz6ccUxwDyh",
        "outputId": "d02714ea-1786-43c6-be19-6bdadcb54bd6"
      },
      "execution_count": null,
      "outputs": [
        {
          "output_type": "stream",
          "name": "stdout",
          "text": [
            "              precision    recall  f1-score   support\n",
            "\n",
            "           0       0.55      0.46      0.50        13\n",
            "           1       0.53      0.62      0.57        13\n",
            "\n",
            "    accuracy                           0.54        26\n",
            "   macro avg       0.54      0.54      0.54        26\n",
            "weighted avg       0.54      0.54      0.54        26\n",
            "\n",
            "F1 Score  0.5714285714285715\n"
          ]
        },
        {
          "output_type": "display_data",
          "data": {
            "text/plain": [
              "<Figure size 432x288 with 2 Axes>"
            ],
            "image/png": "[encoded data removed]"
          },
          "metadata": {
            "needs_background": "light"
          }
        }
      ]
    },
    {
      "cell_type": "markdown",
      "source": [
        "Conclusion :      \n",
        "\n",
        "Based on 3 models, KNN model has the highest accuracy of 73 %"
      ],
      "metadata": {
        "id": "N9it_A92zt1_"
      }
    }
  ]
}